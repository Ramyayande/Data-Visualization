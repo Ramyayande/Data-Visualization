{
 "cells": [
  {
   "cell_type": "markdown",
   "id": "f164d316",
   "metadata": {},
   "source": [
    "# Barplot\n",
    "Bar Plots encode quantities by length, which is a very precise visual encoding and preferred over the angle-based strategy used in pie charts. Often, the accounts we want to represent are sums across multiple categories.\n",
    "if our main goal is to allow comparisons of values ​​between categories within each item while still allowing comparisons between items, a grouped bar chart is the ideal solution."
   ]
  },
  {
   "cell_type": "code",
   "execution_count": 1,
   "id": "58085909",
   "metadata": {},
   "outputs": [],
   "source": [
    "import pandas as pd\n",
    "import matplotlib.pyplot as plt"
   ]
  },
  {
   "cell_type": "code",
   "execution_count": 2,
   "id": "db9b9532",
   "metadata": {},
   "outputs": [
    {
     "data": {
      "image/png": "[encoded data removed]",
      "text/plain": [
       "<Figure size 432x288 with 1 Axes>"
      ]
     },
     "metadata": {
      "needs_background": "light"
     },
     "output_type": "display_data"
    }
   ],
   "source": [
    "data = [5., 25., 50., 20.]\n",
    "plt.bar(range(len(data)), data)\n",
    "plt.show()"
   ]
  },
  {
   "cell_type": "code",
   "execution_count": 7,
   "id": "f44cc4ee",
   "metadata": {},
   "outputs": [
    {
     "data": {
      "image/png": "[encoded data removed]",
      "text/plain": [
       "<Figure size 432x288 with 1 Axes>"
      ]
     },
     "metadata": {
      "needs_background": "light"
     },
     "output_type": "display_data"
    }
   ],
   "source": [
    "data = [5., 25., 50., 20.]\n",
    "plt.bar(range(len(data)), data, width=1.)\n",
    "plt.show()"
   ]
  },
  {
   "cell_type": "markdown",
   "id": "a27bdd78",
   "metadata": {},
   "source": [
    "# Horizontal Bar Plots with Python"
   ]
  },
  {
   "cell_type": "code",
   "execution_count": 8,
   "id": "ce592b2c",
   "metadata": {},
   "outputs": [
    {
     "data": {
      "image/png": "[encoded data removed]",
      "text/plain": [
       "<Figure size 432x288 with 1 Axes>"
      ]
     },
     "metadata": {
      "needs_background": "light"
     },
     "output_type": "display_data"
    }
   ],
   "source": [
    "import pandas as pd\n",
    "import matplotlib.pyplot as plt\n",
    "data = [5., 25., 50., 20.]\n",
    "plt.barh(range(len(data)), data)\n",
    "plt.show()"
   ]
  },
  {
   "cell_type": "markdown",
   "id": "579f7bcd",
   "metadata": {},
   "source": [
    "# Multiple Bar Plots with Python"
   ]
  },
  {
   "cell_type": "code",
   "execution_count": 10,
   "id": "775f6c39",
   "metadata": {},
   "outputs": [
    {
     "data": {
      "image/png": "[encoded data removed]",
      "text/plain": [
       "<Figure size 432x288 with 1 Axes>"
      ]
     },
     "metadata": {
      "needs_background": "light"
     },
     "output_type": "display_data"
    }
   ],
   "source": [
    "import numpy as np\n",
    "data = [[5., 25., 50., 20.],\n",
    "        [4., 23., 51., 17.],\n",
    "        [6., 22., 52., 19.]]\n",
    "x = np.arange(4)\n",
    "plt.bar(x + 0.00, data[0], color='b', width=0.25)\n",
    "plt.bar(x + 0.25, data[1], color='r', width=0.25)\n",
    "plt.bar(x + 0.50, data[2], color='g', width=0.25)\n",
    "plt.show()"
   ]
  },
  {
   "cell_type": "code",
   "execution_count": 11,
   "id": "7f08a599",
   "metadata": {},
   "outputs": [
    {
     "data": {
      "image/png": "[encoded data removed]",
      "text/plain": [
       "<Figure size 432x288 with 1 Axes>"
      ]
     },
     "metadata": {
      "needs_background": "light"
     },
     "output_type": "display_data"
    }
   ],
   "source": [
    "a = [5., 30., 45., 22.]\n",
    "b = [5., 25., 50., 20.]\n",
    "x = range(4)\n",
    "plt.bar(x, a, color='b')\n",
    "plt.bar(x, b, color='r', bottom=a)\n",
    "plt.show()"
   ]
  },
  {
   "cell_type": "code",
   "execution_count": null,
   "id": "569466f1",
   "metadata": {},
   "outputs": [],
   "source": []
  }
 ],
 "metadata": {
  "kernelspec": {
   "display_name": "Python 3 (ipykernel)",
   "language": "python",
   "name": "python3"
  },
  "language_info": {
   "codemirror_mode": {
    "name": "ipython",
    "version": 3
   },
   "file_extension": ".py",
   "mimetype": "text/x-python",
   "name": "python",
   "nbconvert_exporter": "python",
   "pygments_lexer": "ipython3",
   "version": "3.9.12"
  }
 },
 "nbformat": 4,
 "nbformat_minor": 5
}
